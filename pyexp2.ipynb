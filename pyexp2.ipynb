{
 "cells": [
  {
   "cell_type": "code",
   "execution_count": 13,
   "id": "c391a5ed-80de-4343-8e68-46062032aa05",
   "metadata": {},
   "outputs": [
    {
     "name": "stdout",
     "output_type": "stream",
     "text": [
      "Input: aaabbb\n",
      "Output: true\n",
      "Input: abab\n",
      "Output: false\n",
      "Input: bbb\n",
      "Output: true\n"
     ]
    }
   ],
   "source": [
    "class conditionalStatements:\n",
    "    def checkString(self, s: str) -> bool:\n",
    "        # We check if there is any 'b' before 'a'\n",
    "        found_b = False\n",
    "        for char in s:\n",
    "            if char == 'b':\n",
    "                found_b = True\n",
    "            elif char == 'a' and found_b:\n",
    "                # If we find an 'a' after finding a 'b', return False\n",
    "                return False\n",
    "        return True\n",
    "\n",
    "\n",
    "input_string1 = \"aaabbb\"  \n",
    "input_string2 = \"abab\"\n",
    "input_string3 = \"bbb\"\n",
    "\n",
    "\n",
    "cs = conditionalStatements()\n",
    "\n",
    "\n",
    "print(f\"Input: {input_string1}\")\n",
    "if cs.checkString(input_string1):\n",
    "    print(\"Output: true\")\n",
    "else:\n",
    "    print(\"Output: false\")\n",
    "\n",
    "\n",
    "print(f\"Input: {input_string2}\")\n",
    "if cs.checkString(input_string2):\n",
    "    print(\"Output: true\")\n",
    "else:\n",
    "    print(\"Output: false\")\n",
    "\n",
    "\n",
    "print(f\"Input: {input_string3}\")\n",
    "if cs.checkString(input_string3):\n",
    "    print(\"Output: true\")\n",
    "else:\n",
    "    print(\"Output: false\")\n"
   ]
  },
  {
   "cell_type": "code",
   "execution_count": null,
   "id": "1c14ed46-6282-48f9-a6dd-d0d8577f63d5",
   "metadata": {},
   "outputs": [],
   "source": []
  }
 ],
 "metadata": {
  "kernelspec": {
   "display_name": "Python [conda env:base] *",
   "language": "python",
   "name": "conda-base-py"
  },
  "language_info": {
   "codemirror_mode": {
    "name": "ipython",
    "version": 3
   },
   "file_extension": ".py",
   "mimetype": "text/x-python",
   "name": "python",
   "nbconvert_exporter": "python",
   "pygments_lexer": "ipython3",
   "version": "3.12.7"
  }
 },
 "nbformat": 4,
 "nbformat_minor": 5
}
