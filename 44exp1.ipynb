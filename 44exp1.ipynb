{
  "cells": [
    {
      "cell_type": "code",
      "execution_count": 2,
      "id": "c0dbdbef-cd01-411b-844e-91fe9c640576",
      "metadata": {
        "trusted": true
      },
      "outputs": [
        {
          "name": "stdout",
          "output_type": "stream",
          "text": [
            "This is first String\n",
            "This is Second String\n",
            "This is Third String\n"
          ]
        }
      ],
      "source": [
        "#Strings in python \n",
        "a = 'This is first String'\n",
        "print(a)\n",
        "b = \"This is Second String\"\n",
        "print(b)\n",
        "c='''This is Third String'''\n",
        "print(c)"
      ]
    },
    {
      "cell_type": "code",
      "execution_count": 3,
      "id": "de8293e1-4a1a-4e75-b674-722b7b8f05c3",
      "metadata": {
        "trusted": true
      },
      "outputs": [
        {
          "name": "stdout",
          "output_type": "stream",
          "text": [
            "[1, 'a', 'string', 3]\n",
            "[1, 'a', 'string', 3, 6]\n",
            "[1, 'a', 'string', 3]\n",
            "a\n"
          ]
        }
      ],
      "source": [
        "# lists in python\n",
        "L = [1, \"a\" , \"string\" , 1+2]\n",
        "print (L)\n",
        "#Adding an element in the list\n",
        "L.append(6) \n",
        "print (L)\n",
        "#Deleting last element from a list\n",
        "L.pop()\n",
        "print (L)\n",
        "#Displaying Second element of the list\n",
        "print (L[1]) "
      ]
    },
    {
      "cell_type": "code",
      "execution_count": 4,
      "id": "8d9e2ea2-923c-403f-ba5e-8dc229b9aa3a",
      "metadata": {
        "trusted": true
      },
      "outputs": [
        {
          "name": "stdout",
          "output_type": "stream",
          "text": [
            "{'a': 1, 'c': 3}\n",
            "2\n"
          ]
        }
      ],
      "source": [
        "my_dict = {'a': 1, 'b': 2, 'c': 3}\n",
        "\n",
        "# Deleting an item with the key 'b' and returning its value\n",
        "removed_value = my_dict.pop('b')\n",
        "\n",
        "print(my_dict)       # Output: {'a': 1, 'c': 3}\n",
        "print(removed_value) # Output: 2"
      ]
    },
    {
      "cell_type": "code",
      "execution_count": 5,
      "id": "ed49a4c3-1a9d-41d7-b03a-851c84c46c0f",
      "metadata": {
        "trusted": true
      },
      "outputs": [
        {
          "name": "stdout",
          "output_type": "stream",
          "text": [
            "(1, 'a', 'string', 3)\n",
            "a\n"
          ]
        }
      ],
      "source": [
        "# Tuples in Python\n",
        "tup = (1, \"a\", \"string\", 1+2)\n",
        "print(tup)\n",
        "print(tup[1])"
      ]
    },
    {
      "cell_type": "code",
      "execution_count": 6,
      "id": "deb6a048-8290-4e50-8fd9-d2f7a1ccec94",
      "metadata": {
        "trusted": true
      },
      "outputs": [
        {
          "name": "stdout",
          "output_type": "stream",
          "text": [
            "{1: 'Lorem', 2: 'Ipsum', 3: 'Dolerum'}\n"
          ]
        }
      ],
      "source": [
        "# Dictionaries in python \n",
        "d = {1: 'Lorem', 2: 'Ipsum', 3: 'Dolerum'}\n",
        "print(d)"
      ]
    },
    {
      "cell_type": "code",
      "execution_count": 7,
      "id": "2f268b10-8ff3-4924-9c5d-7df4cc451e94",
      "metadata": {
        "trusted": true
      },
      "outputs": [
        {
          "name": "stdout",
          "output_type": "stream",
          "text": [
            "{1: 'Game', 2: 'of', 3: 'Thrones'}\n",
            "{'a': 'House', 'b': 'of', 'c': 'Cards'}\n"
          ]
        }
      ],
      "source": [
        "# create dictionary using { }\n",
        "d1 = {1: 'Game', 2: 'of', 3: 'Thrones'}\n",
        "print(d1)\n",
        "\n",
        "# create dictionary using dict() constructor\n",
        "d2 = dict(a = \"House\", b = \"of\", c = \"Cards\")\n",
        "print(d2)"
      ]
    },
    {
      "cell_type": "code",
      "execution_count": null,
      "id": "646fe874-b9ec-43ef-b3db-bf8a01208483",
      "metadata": {
        "trusted": true
      },
      "outputs": [
        {
          "name": "stdout",
          "output_type": "stream",
          "text": [
            "Soham\n",
            "Soham\n"
          ]
        }
      ],
      "source": [
        "# accessing dictionary items \n",
        "d = { \"name\": \"soham\", 1: \"Python\", (1, 2): [1,2,4] }\n",
        "\n",
        "# Access using key\n",
        "print(d[\"name\"])\n",
        "\n",
        "# Access using get()\n",
        "print(d.get(\"name\"))"
      ]
    },
    {
      "cell_type": "code",
      "execution_count": 10,
      "id": "02eb5899-8521-4368-8e0f-d60a9d82a2c1",
      "metadata": {
        "trusted": true
      },
      "outputs": [
        {
          "name": "stdout",
          "output_type": "stream",
          "text": [
            "{1: 'Python dict', 2: 'of', 3: 'Thrones', 'age': 22}\n"
          ]
        }
      ],
      "source": [
        "# adding and updatin dictionary items \n",
        "d = {1: 'Game', 2: 'of', 3: 'Thrones'}\n",
        "\n",
        "# Adding a new key-value pair\n",
        "d[\"age\"] = 22\n",
        "\n",
        "# Updating an existing value\n",
        "d[1] = \"Python dict\"\n",
        "\n",
        "print(d)"
      ]
    },
    {
      "cell_type": "code",
      "execution_count": 1,
      "id": "a43d9ac4-bee2-491e-a5a2-9be09d905859",
      "metadata": {
        "trusted": true
      },
      "outputs": [
        {
          "name": "stdout",
          "output_type": "stream",
          "text": [
            "{1: 'house', 2: 'of', 3: 'dragon'}\n",
            "{1: 'house', 3: 'dragon'}\n"
          ]
        }
      ],
      "source": [
        "# deleting dictionary\n",
        "d = {1: 'house', 2: 'of', 3: 'dragon'}\n",
        "print(d)\n",
        "del d[2]\n",
        "print(d)\n",
        "del d"
      ]
    },
    {
      "cell_type": "code",
      "execution_count": null,
      "id": "43bc74a2-509b-41ef-96fc-e92bf1bc3126",
      "metadata": {
        "trusted": true
      },
      "outputs": [],
      "source": []
    }
  ],
  "metadata": {
    "kernelspec": {
      "display_name": "Python 3",
      "language": "python",
      "name": "python3"
    },
    "language_info": {
      "codemirror_mode": {
        "name": "ipython",
        "version": 3
      },
      "file_extension": ".py",
      "mimetype": "text/x-python",
      "name": "python",
      "nbconvert_exporter": "python",
      "pygments_lexer": "ipython3",
      "version": "3.13.1"
    }
  },
  "nbformat": 4,
  "nbformat_minor": 5
}
