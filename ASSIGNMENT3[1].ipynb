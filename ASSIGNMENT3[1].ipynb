{
  "cells": [
    {
      "cell_type": "markdown",
      "metadata": {
        "id": "zfbHMdhzfzvF"
      },
      "source": [
        "sarvesh tendolkar\n",
        "SE3 - 44\n",
        "\n",
        "\n",
        "\n"
      ]
    },
    {
      "cell_type": "code",
      "execution_count": 1,
      "metadata": {
        "colab": {
          "base_uri": "https://localhost:8080/"
        },
        "id": "ci7ywBJrgFRu",
        "outputId": "68c34366-1d2d-4a85-ed95-e46d42cf0c0b"
      },
      "outputs": [
        {
          "name": "stdout",
          "output_type": "stream",
          "text": [
            "Original List:\n",
            "1 -> 2 -> 3 -> 4 -> 5 -> None\n",
            "Rotated List (by 2 places):\n",
            "4 -> 5 -> 1 -> 2 -> 3 -> None\n"
          ]
        }
      ],
      "source": [
        "class ListNode:\n",
        "    def __init__(self, val=0, next=None):\n",
        "        self.val = val\n",
        "        self.next = next\n",
        "\n",
        "class LinkedList:\n",
        "    def __init__(self):\n",
        "        self.head = None\n",
        "\n",
        "    def append(self, val):\n",
        "        \"\"\"Adds a new node with the given value at the end of the list.\"\"\"\n",
        "        if not self.head:\n",
        "            self.head = ListNode(val)\n",
        "            return\n",
        "        curr = self.head\n",
        "        while curr.next:\n",
        "            curr = curr.next\n",
        "        curr.next = ListNode(val)\n",
        "\n",
        "    def rotateRight(self, k):\n",
        "        \"\"\"Rotates the linked list to the right by k places.\"\"\"\n",
        "        if not self.head or not self.head.next or k == 0:\n",
        "            return\n",
        "\n",
        "\n",
        "        length = 1\n",
        "        tail = self.head\n",
        "        while tail.next:\n",
        "            tail = tail.next\n",
        "            length += 1\n",
        "\n",
        "\n",
        "        k %= length\n",
        "        if k == 0:\n",
        "            return\n",
        "\n",
        "\n",
        "        new_tail = self.head\n",
        "        for _ in range(length - k - 1):\n",
        "            new_tail = new_tail.next\n",
        "\n",
        "        new_head = new_tail.next\n",
        "        new_tail.next = None\n",
        "        tail.next = self.head\n",
        "        self.head = new_head\n",
        "\n",
        "    def printList(self):\n",
        "        \"\"\"Prints the linked list.\"\"\"\n",
        "        curr = self.head\n",
        "        while curr:\n",
        "            print(curr.val, end=\" -> \")\n",
        "            curr = curr.next\n",
        "        print(\"None\")\n",
        "\n",
        "if __name__ == \"__main__\":\n",
        "    ll = LinkedList()\n",
        "    for num in [1, 2, 3, 4, 5]:\n",
        "        ll.append(num)\n",
        "\n",
        "    print(\"Original List:\")\n",
        "    ll.printList()\n",
        "\n",
        "    k = 2\n",
        "    ll.rotateRight(k)\n",
        "\n",
        "    print(f\"Rotated List (by {k} places):\")\n",
        "    ll.printList()\n"
      ]
    },
    {
      "cell_type": "code",
      "execution_count": null,
      "metadata": {
        "id": "h4u9EzCGgZnJ"
      },
      "outputs": [],
      "source": []
    }
  ],
  "metadata": {
    "colab": {
      "provenance": []
    },
    "kernelspec": {
      "display_name": "Python 3",
      "name": "python3"
    },
    "language_info": {
      "name": "python"
    }
  },
  "nbformat": 4,
  "nbformat_minor": 0
}
