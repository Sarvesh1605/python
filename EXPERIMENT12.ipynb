{
  "cells": [
    {
      "cell_type": "code",
      "execution_count": 1,
      "metadata": {
        "is_executing": true,
        "colab": {
          "base_uri": "https://localhost:8080/"
        },
        "id": "tXSUGVHOU1DE",
        "outputId": "2909654d-69f5-463e-80d4-e3ea84284059"
      },
      "outputs": [
        {
          "output_type": "stream",
          "name": "stdout",
          "text": [
            "Requirement already satisfied: pandas in /usr/local/lib/python3.11/dist-packages (2.2.2)\n",
            "Requirement already satisfied: numpy>=1.23.2 in /usr/local/lib/python3.11/dist-packages (from pandas) (2.0.2)\n",
            "Requirement already satisfied: python-dateutil>=2.8.2 in /usr/local/lib/python3.11/dist-packages (from pandas) (2.8.2)\n",
            "Requirement already satisfied: pytz>=2020.1 in /usr/local/lib/python3.11/dist-packages (from pandas) (2025.2)\n",
            "Requirement already satisfied: tzdata>=2022.7 in /usr/local/lib/python3.11/dist-packages (from pandas) (2025.2)\n",
            "Requirement already satisfied: six>=1.5 in /usr/local/lib/python3.11/dist-packages (from python-dateutil>=2.8.2->pandas) (1.17.0)\n"
          ]
        }
      ],
      "source": [
        "!pip install pandas"
      ]
    },
    {
      "cell_type": "code",
      "execution_count": 2,
      "metadata": {
        "is_executing": true,
        "id": "gWmUAK89U1DF"
      },
      "outputs": [],
      "source": [
        "import pandas as pd\n",
        "\n",
        "# Creating a DataFrame with Product Data\n",
        "data = {\n",
        "    \"Product\": [\"Laptop\", \"Phone\", \"Tablet\", \"Monitor\", \"Keyboard\"],\n",
        "    \"Price\": [1200, 800, 300, 400, 100],\n",
        "    \"Stock\": [10, 25, 30, 15, 50],\n",
        "    \"Category\": [\"Electronics\", \"Electronics\", \"Electronics\", \"Accessories\", \"Accessories\"]\n",
        "}"
      ]
    },
    {
      "cell_type": "code",
      "execution_count": 3,
      "metadata": {
        "is_executing": true,
        "colab": {
          "base_uri": "https://localhost:8080/"
        },
        "id": "FaCr_M2YU1DF",
        "outputId": "440b206c-bbe4-461a-e9f0-7c5ec2bdb8c2"
      },
      "outputs": [
        {
          "output_type": "stream",
          "name": "stdout",
          "text": [
            "Original DataFrame:\n",
            "    Product  Price  Stock     Category\n",
            "0    Laptop   1200     10  Electronics\n",
            "1     Phone    800     25  Electronics\n",
            "2    Tablet    300     30  Electronics\n",
            "3   Monitor    400     15  Accessories\n",
            "4  Keyboard    100     50  Accessories\n"
          ]
        }
      ],
      "source": [
        "df = pd.DataFrame(data)\n",
        "\n",
        "# Display the DataFrame\n",
        "print(\"Original DataFrame:\")\n",
        "print(df)\n"
      ]
    },
    {
      "cell_type": "code",
      "execution_count": 4,
      "metadata": {
        "colab": {
          "base_uri": "https://localhost:8080/"
        },
        "id": "ppEy_1sSU1DF",
        "outputId": "f7f908cc-1e66-4707-8740-9778b652a47f"
      },
      "outputs": [
        {
          "output_type": "stream",
          "name": "stdout",
          "text": [
            "\n",
            "DataFrame after adding Discounted Price:\n",
            "    Product  Price  Stock     Category  Discounted Price\n",
            "0    Laptop   1200     10  Electronics            1080.0\n",
            "1     Phone    800     25  Electronics             720.0\n",
            "2    Tablet    300     30  Electronics             270.0\n",
            "3   Monitor    400     15  Accessories             360.0\n",
            "4  Keyboard    100     50  Accessories              90.0\n"
          ]
        }
      ],
      "source": [
        "# Adding a Discounted Price Column\n",
        "df[\"Discounted Price\"] = df[\"Price\"] * 0.90  # Applying a 10% discount\n",
        "print(\"\\nDataFrame after adding Discounted Price:\")\n",
        "print(df)\n"
      ]
    },
    {
      "cell_type": "code",
      "execution_count": 5,
      "metadata": {
        "colab": {
          "base_uri": "https://localhost:8080/"
        },
        "id": "J4_d2FtkU1DG",
        "outputId": "8d932828-dcf1-4fa7-8032-f52cd5c638e5"
      },
      "outputs": [
        {
          "output_type": "stream",
          "name": "stdout",
          "text": [
            "\n",
            "Filtered Products (Price > 500):\n",
            "  Product  Price  Stock     Category  Discounted Price\n",
            "0  Laptop   1200     10  Electronics            1080.0\n",
            "1   Phone    800     25  Electronics             720.0\n"
          ]
        }
      ],
      "source": [
        "# Filtering products priced above $500\n",
        "filtered_df = df[df[\"Price\"] > 500]\n",
        "print(\"\\nFiltered Products (Price > 500):\")\n",
        "print(filtered_df)"
      ]
    },
    {
      "cell_type": "code",
      "execution_count": 6,
      "metadata": {
        "colab": {
          "base_uri": "https://localhost:8080/"
        },
        "id": "1MYmcFm7U1DG",
        "outputId": "9402a38e-9d42-4822-cb39-b7f5a9618a58"
      },
      "outputs": [
        {
          "output_type": "stream",
          "name": "stdout",
          "text": [
            "\n",
            "Average Price per Category:\n",
            "Category\n",
            "Accessories    250.000000\n",
            "Electronics    766.666667\n",
            "Name: Price, dtype: float64\n",
            "\n",
            "Data saved to product_data.csv\n"
          ]
        }
      ],
      "source": [
        "category_avg_price = df.groupby(\"Category\")[\"Price\"].mean()\n",
        "print(\"\\nAverage Price per Category:\")\n",
        "print(category_avg_price)\n",
        "\n",
        "# Saving to CSV\n",
        "df.to_csv(\"product_data.csv\", index=False)\n",
        "print(\"\\nData saved to product_data.csv\")"
      ]
    }
  ],
  "metadata": {
    "kernelspec": {
      "display_name": "Python 3",
      "language": "python",
      "name": "python3"
    },
    "language_info": {
      "codemirror_mode": {
        "name": "ipython",
        "version": 3
      },
      "file_extension": ".py",
      "mimetype": "text/x-python",
      "name": "python",
      "nbconvert_exporter": "python",
      "pygments_lexer": "ipython3",
      "version": "3.12.0"
    },
    "colab": {
      "provenance": []
    }
  },
  "nbformat": 4,
  "nbformat_minor": 0
}
