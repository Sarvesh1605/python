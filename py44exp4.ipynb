{
  "metadata": {
    "kernelspec": {
      "name": "python",
      "display_name": "Python (Pyodide)",
      "language": "python"
    },
    "language_info": {
      "codemirror_mode": {
        "name": "python",
        "version": 3
      },
      "file_extension": ".py",
      "mimetype": "text/x-python",
      "name": "python",
      "nbconvert_exporter": "python",
      "pygments_lexer": "ipython3",
      "version": "3.8"
    }
  },
  "nbformat_minor": 5,
  "nbformat": 4,
  "cells": [
    {
      "id": "63ab55fc-6fa0-4037-b4c0-f536a6ddff21",
      "cell_type": "code",
      "source": "from contextlib import contextmanager\n\n@contextmanager\ndef genericFileFunction(filename, method):\n    file = open(filename, method)\n    yield file\n    file.close()\n\nif __name__ == '__main__':\n    # Write to the file\n    with genericFileFunction('example.txt', 'w') as file:\n        file.write(\"Python Lab 4 .\\n\")\n\n    # Read the file \n    with genericFileFunction('example.txt', 'r') as file:\n        print(\"File content after editing :\")\n        print(file.read())\n\n    # Make changes in the file by appending \n    with genericFileFunction('example.txt', 'a') as file:\n        file.write(\"This is the appended line.\\n\")\n\n    # Again read the same file to display \n    with genericFileFunction('example.txt', 'r') as file:\n        print(\"File content after appending:\")\n        print(file.read())",
      "metadata": {
        "trusted": true
      },
      "outputs": [
        {
          "name": "stdout",
          "output_type": "stream",
          "text": "File content after editing :\nPython Lab 4 .\n\nFile content after appending:\nPython Lab 4 .\nThis is the appended line.\n\n"
        }
      ],
      "execution_count": 2
    },
    {
      "id": "e00b260b-1850-43eb-ad89-6ad0c01a207f",
      "cell_type": "code",
      "source": "",
      "metadata": {
        "trusted": true
      },
      "outputs": [],
      "execution_count": null
    }
  ]
}