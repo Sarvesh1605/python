{
  "metadata": {
    "kernelspec": {
      "name": "python",
      "display_name": "Python (Pyodide)",
      "language": "python"
    },
    "language_info": {
      "codemirror_mode": {
        "name": "python",
        "version": 3
      },
      "file_extension": ".py",
      "mimetype": "text/x-python",
      "name": "python",
      "nbconvert_exporter": "python",
      "pygments_lexer": "ipython3",
      "version": "3.8"
    }
  },
  "nbformat_minor": 5,
  "nbformat": 4,
  "cells": [
    {
      "id": "a53560c8-c3a4-412e-9797-ae1533fe06df",
      "cell_type": "code",
      "source": "class Employee:\n    def __init__(\n            self,\n            designation: str = 'Developer',\n            frontend: bool = False,\n            backend: bool = False\n    ):\n        self.designation = designation\n        self.frontend = frontend\n        self.backend = backend\n\n    def __repr__(self):\n        return '{}'.format(self.designation)\n\n    def verifier(self):\n        # Check the condition for frontend and backend\n        if self.frontend and self.backend:\n            return 'Fullstack Developer'\n        elif self.frontend:\n            return 'Frontend Developer'\n        elif self.backend:\n            return 'Backend Developer'\n        else:\n            return 'Not a Developer'\n\nif __name__ == '__main__':\n    # Test cases for different employee roles\n    firstEmployee = Employee()\n    print(firstEmployee.verifier())  # Fullstack Developer\n\n    secondEmployee = Employee(frontend=True)\n    print(secondEmployee.verifier())  # Frontend Developer\n\n    thirdEmployee = Employee(backend=True)\n    print(thirdEmployee.verifier())  # Backend Developer\n\n    fourthEmployee = Employee(frontend=True, backend=True)\n    print(fourthEmployee.verifier())  # Not a Developer",
      "metadata": {
        "trusted": true
      },
      "outputs": [
        {
          "name": "stdout",
          "output_type": "stream",
          "text": "Not a Developer\nFrontend Developer\nBackend Developer\nFullstack Developer\n"
        }
      ],
      "execution_count": 3
    },
    {
      "id": "940e87f4-4586-40e5-babc-0a173b928b6f",
      "cell_type": "code",
      "source": "",
      "metadata": {
        "trusted": true
      },
      "outputs": [],
      "execution_count": null
    }
  ]
}