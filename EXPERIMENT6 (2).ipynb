{
  "cells": [
    {
      "cell_type": "code",
      "execution_count": null,
      "metadata": {
        "id": "oXfegTXiag4P"
      },
      "outputs": [],
      "source": [
        "import tkinter as tk\n",
        "from tkinter import messagebox"
      ]
    },
    {
      "cell_type": "code",
      "execution_count": null,
      "metadata": {
        "id": "Y1DUCqT5ag4T"
      },
      "outputs": [],
      "source": [
        "def submit():\n",
        "    name = name_entry.get()\n",
        "    gender = gender_var.get()\n",
        "    skills = []\n",
        "    if skill1_var.get():\n",
        "        skills.append(\"Python\")\n",
        "    if skill2_var.get():\n",
        "        skills.append(\"Java\")\n",
        "    if skill3_var.get():\n",
        "        skills.append(\"C++\")\n",
        "\n",
        "    skill_text = \", \".join(skills) if skills else \"None\"\n",
        "\n",
        "    info = f\"Name: {name}\\nGender: {gender}\\nSkills: {skill_text}\"\n",
        "    messagebox.showinfo(\"Information Submitted\", info)\n"
      ]
    },
    {
      "cell_type": "code",
      "execution_count": null,
      "metadata": {
        "id": "5GlDqn7wag4U"
      },
      "outputs": [],
      "source": [
        "def custom_dialog():\n",
        "    messagebox.showwarning(\"Custom Dialog\", \"This is a custom warning dialog!\")"
      ]
    },
    {
      "cell_type": "code",
      "execution_count": null,
      "metadata": {
        "id": "k9pGjJKXag4V",
        "outputId": "1c8cce8f-ddd9-4aa0-d668-0273f497aa1e"
      },
      "outputs": [
        {
          "data": {
            "text/plain": [
              "''"
            ]
          },
          "execution_count": 4,
          "metadata": {},
          "output_type": "execute_result"
        }
      ],
      "source": [
        "root = tk.Tk()\n",
        "root.title(\"User Information Form\")\n",
        "root.geometry(\"400x400\")"
      ]
    },
    {
      "cell_type": "code",
      "execution_count": null,
      "metadata": {
        "id": "y0Ety8XGag4Y"
      },
      "outputs": [],
      "source": [
        "tk.Label(root, text=\"User Information Form\", font=(\"Arial\", 18)).pack(pady=10)\n",
        "\n",
        "# Name Entry\n",
        "tk.Label(root, text=\"Enter your name:\").pack(pady=5)\n",
        "name_entry = tk.Entry(root, width=30)\n",
        "name_entry.pack(pady=5)"
      ]
    },
    {
      "cell_type": "code",
      "execution_count": null,
      "metadata": {
        "id": "6x-czJr2ag4Z"
      },
      "outputs": [],
      "source": [
        "# Radio Button for Gender\n",
        "tk.Label(root, text=\"Select Gender:\").pack(pady=5)\n",
        "gender_var = tk.StringVar(value=\"None\")\n",
        "tk.Radiobutton(root, text=\"Male\", variable=gender_var, value=\"Male\").pack()\n",
        "tk.Radiobutton(root, text=\"Female\", variable=gender_var, value=\"Female\").pack()"
      ]
    },
    {
      "cell_type": "code",
      "execution_count": null,
      "metadata": {
        "id": "9p71F6gUag4a"
      },
      "outputs": [],
      "source": [
        "# Checkbox for Skills\n",
        "tk.Label(root, text=\"Select Skills:\").pack(pady=5)\n",
        "skill1_var = tk.BooleanVar()\n",
        "skill2_var = tk.BooleanVar()\n",
        "skill3_var = tk.BooleanVar()\n"
      ]
    },
    {
      "cell_type": "code",
      "execution_count": null,
      "metadata": {
        "id": "vLSdm1_2ag4a"
      },
      "outputs": [],
      "source": [
        "tk.Checkbutton(root, text=\"Python\", variable=skill1_var).pack()\n",
        "tk.Checkbutton(root, text=\"Java\", variable=skill2_var).pack()\n",
        "tk.Checkbutton(root, text=\"C++\", variable=skill3_var).pack()\n",
        "\n",
        "# Submit Button\n",
        "tk.Button(root, text=\"Submit\", command=submit).pack(pady=10)\n",
        "\n",
        "# Custom Dialog Box Button\n",
        "tk.Button(root, text=\"Show Custom Dialog\", command=custom_dialog).pack(pady=10)\n",
        "\n",
        "# Run the GUI loop\n",
        "root.mainloop()"
      ]
    }
  ],
  "metadata": {
    "kernelspec": {
      "display_name": "base",
      "language": "python",
      "name": "python3"
    },
    "language_info": {
      "codemirror_mode": {
        "name": "ipython",
        "version": 3
      },
      "file_extension": ".py",
      "mimetype": "text/x-python",
      "name": "python",
      "nbconvert_exporter": "python",
      "pygments_lexer": "ipython3",
      "version": "3.12.7"
    },
    "colab": {
      "provenance": []
    }
  },
  "nbformat": 4,
  "nbformat_minor": 0
}